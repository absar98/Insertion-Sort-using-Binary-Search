{
 "cells": [
  {
   "cell_type": "code",
   "execution_count": 143,
   "metadata": {},
   "outputs": [
    {
     "name": "stdout",
     "output_type": "stream",
     "text": [
      "[1, 3, 8]\n",
      "True\n"
     ]
    }
   ],
   "source": [
    "import time\n",
    "def binarySearch(alist, item):\n",
    "    first = 0\n",
    "    last = len(alist)-1\n",
    "    found = False\n",
    "    while first<=last and not found:\n",
    "        midpoint = (first + last)//2\n",
    "        if alist[midpoint] == item:\n",
    "            found = True\n",
    "        else:\n",
    "            if item < alist[midpoint]:\n",
    "                last = midpoint-1\n",
    "            else:\n",
    "                first = midpoint+1\n",
    "    return found\n",
    "\n",
    "\n",
    "def insertionSort(alist):\n",
    "    for index in range(1, len(alist)):\n",
    "        key = alist[index]\n",
    "        pos = index\n",
    "        while pos > 0 and alist[pos - 1] > key:\n",
    "            alist[pos] = alist[pos - 1]\n",
    "            pos = pos - 1\n",
    "        alist[pos] = key\n",
    "    return alist\n",
    "\n",
    "        \n",
    "alist=[8,3,1]\n",
    "item=3\n",
    "p=binarySearch(alist,item)\n",
    "\n",
    "print (insertionSort(alist))\n",
    "print (p)"
   ]
  }
 ],
 "metadata": {
  "kernelspec": {
   "display_name": "Python 3",
   "language": "python",
   "name": "python3"
  },
  "language_info": {
   "codemirror_mode": {
    "name": "ipython",
    "version": 3
   },
   "file_extension": ".py",
   "mimetype": "text/x-python",
   "name": "python",
   "nbconvert_exporter": "python",
   "pygments_lexer": "ipython3",
   "version": "3.7.0"
  }
 },
 "nbformat": 4,
 "nbformat_minor": 2
}
