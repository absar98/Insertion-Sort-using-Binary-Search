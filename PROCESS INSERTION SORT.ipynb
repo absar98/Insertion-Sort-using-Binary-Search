{
 "cells": [
  {
   "cell_type": "code",
   "execution_count": 7,
   "metadata": {
    "scrolled": true
   },
   "outputs": [
    {
     "name": "stdout",
     "output_type": "stream",
     "text": [
      "Swapped 2 for 8\n",
      "[8, 8, 1, 3, 5, 9, 4]\n",
      "Swapped 1 for 8\n",
      "[2, 8, 8, 3, 5, 9, 4]\n",
      "Swapped 8 for 2\n",
      "[2, 2, 8, 3, 5, 9, 4]\n",
      "Swapped 3 for 8\n",
      "[1, 2, 8, 8, 5, 9, 4]\n",
      "Swapped 5 for 8\n",
      "[1, 2, 3, 8, 8, 9, 4]\n",
      "Swapped 4 for 9\n",
      "[1, 2, 3, 5, 8, 9, 9]\n",
      "Swapped 9 for 8\n",
      "[1, 2, 3, 5, 8, 8, 9]\n",
      "Swapped 8 for 5\n",
      "[1, 2, 3, 5, 5, 8, 9]\n",
      "[1, 2, 3, 4, 5, 8, 9]\n"
     ]
    }
   ],
   "source": [
    "# Insertion Sort In Python\n",
    "# \n",
    "# Performance Complexity = O(n^2)\n",
    "# Space Complexity = O(n)\n",
    "\n",
    "def insertionSort(my_list):\n",
    "    # for every element in our array\n",
    "    for index in range(1, len(my_list)):\n",
    "        current = my_list[index]\n",
    "        position = index\n",
    "\n",
    "        while position > 0 and my_list[position-1] > current:\n",
    "            print(\"Swapped {} for {}\".format(my_list[position], my_list[position-1]))\n",
    "            my_list[position] = my_list[position-1]\n",
    "            print(my_list)\n",
    "            position -= 1\n",
    "\n",
    "        my_list[position] = current\n",
    "\n",
    "    return my_list\n",
    "my_list = [8,2,1,3,5,9,4]\n",
    "\n",
    "print(insertionSort(my_list))"
   ]
  }
 ],
 "metadata": {
  "kernelspec": {
   "display_name": "Python 3",
   "language": "python",
   "name": "python3"
  },
  "language_info": {
   "codemirror_mode": {
    "name": "ipython",
    "version": 3
   },
   "file_extension": ".py",
   "mimetype": "text/x-python",
   "name": "python",
   "nbconvert_exporter": "python",
   "pygments_lexer": "ipython3",
   "version": "3.7.0"
  }
 },
 "nbformat": 4,
 "nbformat_minor": 2
}
